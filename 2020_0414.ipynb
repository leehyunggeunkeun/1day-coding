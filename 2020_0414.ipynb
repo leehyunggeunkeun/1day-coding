{
 "cells": [
  {
   "cell_type": "markdown",
   "metadata": {},
   "source": [
    "# Duplicate Numbers"
   ]
  },
  {
   "cell_type": "code",
   "execution_count": 1,
   "metadata": {},
   "outputs": [],
   "source": [
    "# 일전에 뭐 게임 회사에서 본 간단한 퀴즈 테스트 입니다.\n",
    "\n",
    "# 0~9까지의 문자로 된 숫자를 입력 받았을 때, 이 입력 값이 0~9까지의 숫자가 각각 한 번 씩만 사용된 것인지 확인하는 함수를 구하시오."
   ]
  },
  {
   "cell_type": "code",
   "execution_count": 2,
   "metadata": {},
   "outputs": [
    {
     "name": "stdout",
     "output_type": "stream",
     "text": [
      "숫자를 입력하세요: 1234568461\n"
     ]
    }
   ],
   "source": [
    "a=input('숫자를 입력하세요: ')"
   ]
  },
  {
   "cell_type": "code",
   "execution_count": 3,
   "metadata": {},
   "outputs": [],
   "source": [
    "def Pandok(a):\n",
    "    if len(set(a))==len(a):\n",
    "        print('중복이 없습니다')\n",
    "        \n",
    "    else:\n",
    "        print('중복된 숫자가 있습니다')"
   ]
  },
  {
   "cell_type": "code",
   "execution_count": 4,
   "metadata": {},
   "outputs": [
    {
     "name": "stdout",
     "output_type": "stream",
     "text": [
      "중복된 숫자가 있습니다\n"
     ]
    }
   ],
   "source": [
    "Pandok(a)"
   ]
  },
  {
   "cell_type": "markdown",
   "metadata": {},
   "source": [
    "# 가성비 최대화"
   ]
  },
  {
   "cell_type": "code",
   "execution_count": 5,
   "metadata": {},
   "outputs": [],
   "source": [
    "#기계를 구입하려 하는데 이 기계는 추가 부품을 장착할 수 있다. \n",
    "#추가 부품은 종류당 하나씩만 장착 가능하고,모든 추가 부품은 동일한 가격을 가진다.\n",
    "\n",
    "#원래 기계의 가격과 성능, 추가 부품의 가격과 각 부품의 성능이 주어졌을 때, 추가 부품을 장착하여 얻을 수 있는 \n",
    "#최대 가성비를 정수 부분까지 구하시오 (가격 및 성능은 상대적인 값으로 수치화되어 주어진다)."
   ]
  },
  {
   "cell_type": "code",
   "execution_count": 6,
   "metadata": {},
   "outputs": [],
   "source": [
    "#e.g.)\n",
    "\n",
    "#원래 기계의 가격 : 10\n",
    "\n",
    "#원래 기계의 성능 : 150\n",
    "\n",
    "#추가 부품의 가격 : 3\n",
    "\n",
    "#추가 부품의 성능 : 각각 30, 70, 15, 40, 65\n",
    "\n",
    "#추가 부품을 장착하여 얻을 수 있는 최대 가성비 : 17.81... → 17\n",
    "\n",
    "#(성능이 70과 65인 부품을 장착하면 됨)"
   ]
  },
  {
   "cell_type": "code",
   "execution_count": 7,
   "metadata": {},
   "outputs": [
    {
     "data": {
      "text/plain": [
       "17"
      ]
     },
     "execution_count": 7,
     "metadata": {},
     "output_type": "execute_result"
    }
   ],
   "source": [
    "o_price=10\n",
    "o_performance=150\n",
    "\n",
    "a_price=3\n",
    "a_performance=[30,70,15,40,65]\n",
    "a_performance.sort()\n",
    "\n",
    "(o_performance+a_performance[3]+a_performance[4] )// (o_price+(2*a_price))"
   ]
  },
  {
   "cell_type": "markdown",
   "metadata": {},
   "source": [
    "# Printing OXs"
   ]
  },
  {
   "cell_type": "code",
   "execution_count": 8,
   "metadata": {},
   "outputs": [],
   "source": [
    "#앞의 문제들 중 비슷한 알고리즘이 있던 것 같지만, 같은 건 없다고 생각해서 올립니다. \n",
    "#문제를 푸는데 많은 approach가 있을 듯 싶습니다. \n",
    "#이 문제의 핵심은 비트 연산을 얼마나 잘 이해하고 있냐이기 때문에 비트 연산으로 풀어주세요.\n",
    "#input은 int n을 입력 받아 첫번째 row는 (n-1)의 O와 X, 두번째 row는 (n-2)의 O와 XX, \n",
    "#세번째 row는 (n-3)의 0와 XXX... n번째 row는 n의 X을 출력하시오.\n",
    "\n",
    "#입력 예시: 6\n",
    "\n",
    "#OOOOOX\n",
    "#OOOOXX\n",
    "#OOOXXX\n",
    "#OOXXXX\n",
    "#OXXXXX\n",
    "#XXXXXX"
   ]
  },
  {
   "cell_type": "code",
   "execution_count": 9,
   "metadata": {},
   "outputs": [],
   "source": [
    "def ox(n):\n",
    "    for i in range(n):\n",
    "        print('o'*(n-i-1)+'x'*(i+1))"
   ]
  },
  {
   "cell_type": "code",
   "execution_count": 10,
   "metadata": {},
   "outputs": [
    {
     "name": "stdout",
     "output_type": "stream",
     "text": [
      "ooooox\n",
      "ooooxx\n",
      "oooxxx\n",
      "ooxxxx\n",
      "oxxxxx\n",
      "xxxxxx\n"
     ]
    }
   ],
   "source": [
    "ox(6)"
   ]
  },
  {
   "cell_type": "markdown",
   "metadata": {},
   "source": [
    "# 버전비교"
   ]
  },
  {
   "cell_type": "code",
   "execution_count": 11,
   "metadata": {},
   "outputs": [],
   "source": [
    "#A씨는 두 개의 버전을 비교하는 프로그램을 작성해야 한다.\n",
    "\n",
    "#버전은 다음처럼 \".\" 으로 구분된 문자열이다.\n",
    "\n",
    "#버전 예) 1.0.0, 1.0.23, 1.1\n",
    "\n",
    "#두 개의 버전을 비교하는 프로그램을 작성하시오.\n",
    "\n",
    "#다음은 버전 비교의 예이다.\n",
    "\n",
    "#0.0.2 > 0.0.1\n",
    "#1.0.10 > 1.0.3\n",
    "#1.2.0 > 1.1.99\n",
    "#1.1 > 1.0.1"
   ]
  },
  {
   "cell_type": "code",
   "execution_count": 12,
   "metadata": {},
   "outputs": [
    {
     "name": "stdout",
     "output_type": "stream",
     "text": [
      " \".\"으로 구분해서 버전을 입력해라: 1.0.1\n",
      " \".\"으로 구분해서 버전를 입력해라: 1.0.2\n"
     ]
    }
   ],
   "source": [
    "ver1=input(' \".\"으로 구분해서 버전을 입력해라: ')\n",
    "ver2=input(' \".\"으로 구분해서 버전를 입력해라: ')"
   ]
  },
  {
   "cell_type": "code",
   "execution_count": 13,
   "metadata": {},
   "outputs": [
    {
     "data": {
      "text/plain": [
       "(['1', '0', '1'], ['1', '0', '2'])"
      ]
     },
     "execution_count": 13,
     "metadata": {},
     "output_type": "execute_result"
    }
   ],
   "source": [
    "ver1.split('.'), ver2.split('.')"
   ]
  },
  {
   "cell_type": "code",
   "execution_count": 14,
   "metadata": {},
   "outputs": [
    {
     "name": "stdout",
     "output_type": "stream",
     "text": [
      "ver1 <ver2 \n"
     ]
    }
   ],
   "source": [
    "if len(ver1)==len(ver2):        \n",
    "        \n",
    "    if ver1[-1] >ver2[-1]:\n",
    "        print('ver1 >ver2 ')\n",
    "    else:\n",
    "        print('ver1 <ver2 ')\n",
    "# 이 코드는 인덱스 값이 -1이전에 크면 잡아내지 못하고, 길이가 다른것을 비교하지 못하는 코드....\n",
    "# 근데 남들코드가 이해가 안가서 일단 패스...."
   ]
  },
  {
   "cell_type": "markdown",
   "metadata": {},
   "source": [
    "# 1~1000에서 각 숫자의 개수 구하기"
   ]
  },
  {
   "cell_type": "code",
   "execution_count": 15,
   "metadata": {},
   "outputs": [],
   "source": [
    "#예로 10 ~ 15 까지의 각 숫자의 개수를 구해보자\n",
    "\n",
    "#10 = 1, 0\n",
    "#11 = 1, 1\n",
    "#12 = 1, 2\n",
    "#13 = 1, 3\n",
    "#14 = 1, 4\n",
    "#15 = 1, 5\n",
    "\n",
    "#그러므로 이 경우의 답은 0:1개, 1:7개, 2:1개, 3:1개, 4:1개, 5:1개"
   ]
  },
  {
   "cell_type": "code",
   "execution_count": 16,
   "metadata": {},
   "outputs": [
    {
     "name": "stdout",
     "output_type": "stream",
     "text": [
      "{0: 192, 1: 301, 2: 300, 3: 300, 4: 300, 5: 300, 6: 300, 7: 300, 8: 300, 9: 300}\n"
     ]
    }
   ],
   "source": [
    "count={ x:0 for x in range(0,10) }   #개수셀때는 나도 앞으로 딕셔너리 이용하자\n",
    "\n",
    "for x in range(1,1001):\n",
    "    for i in str(x):\n",
    "        count[int(i)]+=1   #이부분이 이해가 안가는데 1000의str이 들어와서 count[1000]이런식으로 되는게 아닌가??\n",
    "                            #어떻게 1000이 1 000으로 분해되어 더해지는거지????모르겠네....\n",
    "            \n",
    "print(count)\n",
    "\n",
    "\n",
    "#작성자: ksjksjgg@gmail.com"
   ]
  },
  {
   "cell_type": "markdown",
   "metadata": {},
   "source": [
    "# 10~1000까지 각 숫자 분해하여 곱하기의 전체 합 구하기"
   ]
  },
  {
   "cell_type": "code",
   "execution_count": 17,
   "metadata": {},
   "outputs": [],
   "source": [
    "#예로, 10~15까지의 각 숫자 분해하여 곱하기의 전체 합은 다음과 같다.\n",
    "\n",
    "#10 = 1 * 0 = 0\n",
    "#11 = 1 * 1 = 1\n",
    "#12 = 1 * 2 = 2\n",
    "#13 = 1 * 3 = 3\n",
    "#14 = 1 * 4 = 4\n",
    "#15 = 1 * 5 = 5\n",
    "\n",
    "#그러므로, 이 경우의 답은 0+1+2+3+4+5 = 15"
   ]
  },
  {
   "cell_type": "code",
   "execution_count": 18,
   "metadata": {},
   "outputs": [
    {
     "name": "stdout",
     "output_type": "stream",
     "text": [
      "93150\n"
     ]
    }
   ],
   "source": [
    "null=[]\n",
    "\n",
    "for i in range(10,1001):\n",
    "    a=list(str(i))\n",
    "    ##print(a)를 해보면 알  수 있는것처럼 리스트화하면 ,로 나뉘어서 되니까 5번문제에서도 그거였구나\n",
    "    a='*'.join(a)\n",
    "    null.append(eval(a))  #eval은 문자열을 코드로인식!!!\n",
    "print(sum(null))"
   ]
  },
  {
   "cell_type": "code",
   "execution_count": null,
   "metadata": {},
   "outputs": [],
   "source": []
  },
  {
   "cell_type": "code",
   "execution_count": null,
   "metadata": {},
   "outputs": [],
   "source": []
  },
  {
   "cell_type": "code",
   "execution_count": null,
   "metadata": {},
   "outputs": [],
   "source": []
  }
 ],
 "metadata": {
  "kernelspec": {
   "display_name": "Python 3",
   "language": "python",
   "name": "python3"
  },
  "language_info": {
   "codemirror_mode": {
    "name": "ipython",
    "version": 3
   },
   "file_extension": ".py",
   "mimetype": "text/x-python",
   "name": "python",
   "nbconvert_exporter": "python",
   "pygments_lexer": "ipython3",
   "version": "3.7.6"
  },
  "toc": {
   "base_numbering": 1,
   "nav_menu": {},
   "number_sections": true,
   "sideBar": true,
   "skip_h1_title": false,
   "title_cell": "Table of Contents",
   "title_sidebar": "Contents",
   "toc_cell": false,
   "toc_position": {},
   "toc_section_display": true,
   "toc_window_display": false
  },
  "varInspector": {
   "cols": {
    "lenName": 16,
    "lenType": 16,
    "lenVar": 40
   },
   "kernels_config": {
    "python": {
     "delete_cmd_postfix": "",
     "delete_cmd_prefix": "del ",
     "library": "var_list.py",
     "varRefreshCmd": "print(var_dic_list())"
    },
    "r": {
     "delete_cmd_postfix": ") ",
     "delete_cmd_prefix": "rm(",
     "library": "var_list.r",
     "varRefreshCmd": "cat(var_dic_list()) "
    }
   },
   "types_to_exclude": [
    "module",
    "function",
    "builtin_function_or_method",
    "instance",
    "_Feature"
   ],
   "window_display": false
  }
 },
 "nbformat": 4,
 "nbformat_minor": 4
}
