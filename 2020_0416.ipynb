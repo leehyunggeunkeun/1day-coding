{
 "cells": [
  {
   "cell_type": "markdown",
   "metadata": {},
   "source": [
    "# Dash Insert"
   ]
  },
  {
   "cell_type": "code",
   "execution_count": 2,
   "metadata": {},
   "outputs": [],
   "source": [
    "#DashInsert 함수는 숫자로 구성된 문자열을 입력받은 뒤, 문자열 내에서 \n",
    "#홀수가 연속되면 두 수 사이에 - 를 추가하고, 짝수가 연속되면 * 를 \n",
    "#추가하는 기능을 갖고 있다. (예, 454 => 454, 4546793 => 454*67-9-3) \n",
    "#DashInsert 함수를 완성하자. "
   ]
  },
  {
   "cell_type": "code",
   "execution_count": 11,
   "metadata": {},
   "outputs": [
    {
     "name": "stdout",
     "output_type": "stream",
     "text": [
      "454*67-9-3\n"
     ]
    }
   ],
   "source": [
    "a=\"4546793\"\n",
    "b=[]\n",
    "\n",
    "for i in range(0,len(a)-1):\n",
    "    if (int(a[i])%2==0 and int(a[i+1])%2==0) : #짝수연속\n",
    "        b.append(a[i]+\"*\")\n",
    "\n",
    "\n",
    "    elif (int(a[i])%2==1 and int(a[i+1])%2==1) : #홀수연속\n",
    "        b.append(a[i]+\"-\")\n",
    "\n",
    "    else :\n",
    "        b.append(a[i])\n",
    "\n",
    "print(\"\".join(b)+a[len(a)-1])\n",
    "\n",
    "#되게 쉬운건데 b=[]가 생각이 안났고, 마지막 부분에서 버벅임.....\n",
    "\n",
    "#작성자: 박준 "
   ]
  },
  {
   "cell_type": "code",
   "execution_count": 8,
   "metadata": {},
   "outputs": [
    {
     "name": "stdout",
     "output_type": "stream",
     "text": [
      "['4', '5', '4*', '6', '7-', '9-']\n"
     ]
    }
   ],
   "source": [
    "print(b)"
   ]
  },
  {
   "cell_type": "markdown",
   "metadata": {},
   "source": [
    "# 완전수 구하기\n"
   ]
  },
  {
   "cell_type": "code",
   "execution_count": 12,
   "metadata": {},
   "outputs": [],
   "source": [
    "#자기 자신을 제외한 모든 양의 약수들의 합이 자기 자신이 되는 자연수를 \n",
    "#완전수라고 한다. 예를 들면, 6과 28은 완전수이다. 6=1+2+3 // 1,2,3은 \n",
    "#각각 6의 약수 28=1+2+4+7+14 // 1,2,4,7,14는 각각 28의 약수\n",
    "#입력으로 자연수 N을 받고, 출력으로 N 이하의 모든 완전수를 출력하는 \n",
    "#코드를 작성하라."
   ]
  },
  {
   "cell_type": "code",
   "execution_count": 18,
   "metadata": {},
   "outputs": [
    {
     "name": "stdout",
     "output_type": "stream",
     "text": [
      "자연수를 입력하세요: 10000\n",
      "[6, 28, 496, 8128]\n"
     ]
    }
   ],
   "source": [
    "number=int(input('자연수를 입력하세요: '))\n",
    "result=[]\n",
    "\n",
    "for i in range(1,number+1):\n",
    "    a=0\n",
    "    for j in range(1,i):\n",
    "        if i % j ==0: \n",
    "            a+=j   #약수들의 합      \n",
    "            \n",
    "    if i==a:\n",
    "        result.append(i)\n",
    "        \n",
    "print(result)"
   ]
  },
  {
   "cell_type": "code",
   "execution_count": 14,
   "metadata": {},
   "outputs": [
    {
     "data": {
      "text/plain": [
       "int"
      ]
     },
     "execution_count": 14,
     "metadata": {},
     "output_type": "execute_result"
    }
   ],
   "source": [
    "type(number)"
   ]
  },
  {
   "cell_type": "markdown",
   "metadata": {},
   "source": [
    "# Special Pythagorean triplet"
   ]
  },
  {
   "cell_type": "code",
   "execution_count": 20,
   "metadata": {},
   "outputs": [],
   "source": [
    "#세 자연수 a, b, c 가 피타고라스 정리 a^2 + b^2 = c^2 를 만족하면 피타고라스 \n",
    "#수라고 부릅니다.(여기서 a < b < c )\n",
    "#예를 들면 3^2 + 4^2 = 9 + 16 = 25 = 5^2 이므로 3, 4, 5는 피타고라스 수입니다.\n",
    "#a + b + c = 1000 인 피타고라스 수 a, b, c는 한 가지 뿐입니다. \n",
    "#이 때, a × b × c 는 얼마입니까?"
   ]
  },
  {
   "cell_type": "code",
   "execution_count": 29,
   "metadata": {},
   "outputs": [],
   "source": [
    "def pita(a,b,c):\n",
    "    if ((a**2)+(b**2)==c**2) and (a+b+c==1000):\n",
    "        print('문제를 만족하는 피타고라스 정리')\n",
    "        return(a*b*c)\n",
    "    else:\n",
    "        print('피타고라스 정리 아님')"
   ]
  },
  {
   "cell_type": "code",
   "execution_count": 34,
   "metadata": {},
   "outputs": [
    {
     "name": "stdout",
     "output_type": "stream",
     "text": [
      "문제를 만족하는 피타고라스 정리\n"
     ]
    },
    {
     "data": {
      "text/plain": [
       "31875000"
      ]
     },
     "execution_count": 34,
     "metadata": {},
     "output_type": "execute_result"
    }
   ],
   "source": [
    "pita(200,375,425)    #때려 넣어서  a*b*c를 구하는 코드 ;;\n",
    "                     #애초에 a,b,c값을 구할 수는 없는 한계가 있음....\n",
    "                     #수학적인 정리로 범위가 정해지는데 그 정의가 이해가 안가네 ㅎ"
   ]
  },
  {
   "cell_type": "code",
   "execution_count": 33,
   "metadata": {},
   "outputs": [
    {
     "name": "stdout",
     "output_type": "stream",
     "text": [
      "31875000\n"
     ]
    }
   ],
   "source": []
  },
  {
   "cell_type": "code",
   "execution_count": null,
   "metadata": {},
   "outputs": [],
   "source": []
  }
 ],
 "metadata": {
  "kernelspec": {
   "display_name": "Python 3",
   "language": "python",
   "name": "python3"
  },
  "language_info": {
   "codemirror_mode": {
    "name": "ipython",
    "version": 3
   },
   "file_extension": ".py",
   "mimetype": "text/x-python",
   "name": "python",
   "nbconvert_exporter": "python",
   "pygments_lexer": "ipython3",
   "version": "3.7.4"
  }
 },
 "nbformat": 4,
 "nbformat_minor": 2
}
