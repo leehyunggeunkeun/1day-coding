{
 "cells": [
  {
   "cell_type": "markdown",
   "metadata": {},
   "source": [
    "# 이차방정식\n"
   ]
  },
  {
   "cell_type": "code",
   "execution_count": 1,
   "metadata": {},
   "outputs": [],
   "source": [
    "#A씨는 학교숙제로 이차방정식 문제를 풀어야 한다. 하지만 시간이 얼마 없다. \n",
    "#이 A씨를 도와주기 위한 이차방정식 풀이 프로그램을 작성해라.\n",
    "#(단, 이차방정식은 ax^2 + bx + c = 0의 꼴에서 a, b와 c를 입력받아 해를 구하고 \n",
    "# 해를 구하기 위해 근의 공식을 사용해야 한다. 또, 해는 정수로 반올림한 값을 \n",
    "# 구하고 해가 없거나 여러개인 경우도 모두 구해야 한다.)"
   ]
  },
  {
   "cell_type": "code",
   "execution_count": 12,
   "metadata": {},
   "outputs": [],
   "source": [
    "#마지막 문단을 보아하니 해가 2개 / 해가 1개 (중근)/ 해가 x경우 모두 구해야함\n",
    "# 따라서 판별식 이용 d=b**2-4*a*c\n",
    "\n",
    "def equation(a,b,c):\n",
    "    d=(b**2)-4*a*c\n",
    "    if d >0:\n",
    "        print('해가 2개입니다. ')\n",
    "        x1= round(-b-(d**0.5))/(2*a)\n",
    "        x2= round(-b+(d**0.5))/(2*a)\n",
    "        print(x1,x2)\n",
    "        \n",
    "    elif d== 0:\n",
    "        print('해가 1개입니다. ')\n",
    "        x1=round(-b/(2*a))\n",
    "        print(x1)\n",
    "                 \n",
    "    else:\n",
    "        print('해가 없습니다')"
   ]
  },
  {
   "cell_type": "code",
   "execution_count": 13,
   "metadata": {},
   "outputs": [
    {
     "name": "stdout",
     "output_type": "stream",
     "text": [
      "해가 2개입니다. \n",
      "1.2857142857142858 -1.0\n"
     ]
    }
   ],
   "source": [
    "equation(-7,2,9)"
   ]
  },
  {
   "cell_type": "code",
   "execution_count": null,
   "metadata": {},
   "outputs": [],
   "source": []
  }
 ],
 "metadata": {
  "kernelspec": {
   "display_name": "Python 3",
   "language": "python",
   "name": "python3"
  },
  "language_info": {
   "codemirror_mode": {
    "name": "ipython",
    "version": 3
   },
   "file_extension": ".py",
   "mimetype": "text/x-python",
   "name": "python",
   "nbconvert_exporter": "python",
   "pygments_lexer": "ipython3",
   "version": "3.7.4"
  }
 },
 "nbformat": 4,
 "nbformat_minor": 2
}
