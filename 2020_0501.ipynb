{
 "cells": [
  {
   "cell_type": "markdown",
   "metadata": {},
   "source": [
    "# 공백을 제외한 글자수 세기"
   ]
  },
  {
   "cell_type": "code",
   "execution_count": 1,
   "metadata": {},
   "outputs": [],
   "source": [
    "#네이버 글자수세기 등 특정 글의 글자를 세는 프로그램은 일반적으로 공백을 \n",
    "#제외한 글자수만을 세는 기능도 가지고 있다. 어떠한 문자열을 입력받았을 때 \n",
    "#줄바꿈과 공백을 제외한 글자수만을 리턴하는 코드를 작성하시오."
   ]
  },
  {
   "cell_type": "code",
   "execution_count": 14,
   "metadata": {},
   "outputs": [
    {
     "name": "stdout",
     "output_type": "stream",
     "text": [
      "문자열을 입력하세요: 공백을 제외한 글자수만을 세는 코드 테스트\n"
     ]
    },
    {
     "data": {
      "text/plain": [
       "18"
      ]
     },
     "execution_count": 14,
     "metadata": {},
     "output_type": "execute_result"
    }
   ],
   "source": [
    "#join을 통해 리스트를 문자열로 변환하고 replace를 써서 공백을 제거\n",
    "# 그다음 그거의 길이를 재면 된다. 리스트를 문자여롤 변경!!!\n",
    "\n",
    "a=input('문자열을 입력하세요: ')\n",
    "b=[]\n",
    "\n",
    "b.append(a)\n",
    "''.join(b).replace(' ','')\n",
    "len(''.join(b).replace(' ',''))\n"
   ]
  },
  {
   "cell_type": "code",
   "execution_count": null,
   "metadata": {},
   "outputs": [],
   "source": []
  }
 ],
 "metadata": {
  "kernelspec": {
   "display_name": "Python 3",
   "language": "python",
   "name": "python3"
  },
  "language_info": {
   "codemirror_mode": {
    "name": "ipython",
    "version": 3
   },
   "file_extension": ".py",
   "mimetype": "text/x-python",
   "name": "python",
   "nbconvert_exporter": "python",
   "pygments_lexer": "ipython3",
   "version": "3.7.4"
  }
 },
 "nbformat": 4,
 "nbformat_minor": 2
}
