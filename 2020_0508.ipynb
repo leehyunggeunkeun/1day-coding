{
 "cells": [
  {
   "cell_type": "markdown",
   "metadata": {},
   "source": [
    "# 문자열을 제거한뒤 숫자만반환\n"
   ]
  },
  {
   "cell_type": "code",
   "execution_count": 1,
   "metadata": {},
   "outputs": [],
   "source": [
    "#현우는 축구를보다가 우리나라선수들의몸값을 알고싶었다\n",
    "#그래서 검색을해서 메모장에 적는데 키보드가 조그만하고 안좋은지라\n",
    "#자꾸 숫자가아닌 문자를 같이입력해버린다\n",
    "#ex: xxx : 1627000000 > xxx : 1w627r00o00p00 만 (특수문자제외)\n",
    "#현우는 왜인지모르지만 뜻대로안되는것에\n",
    "#너무화가나서 자신이수량을입력하면 문자열만 딱빼서 숫자만 반환하는 코드를 만들고싶어한다\n",
    "#화가난 현우를위해 코드를 만들어보자!"
   ]
  },
  {
   "cell_type": "code",
   "execution_count": 61,
   "metadata": {},
   "outputs": [
    {
     "name": "stdout",
     "output_type": "stream",
     "text": [
      "의도치않게 입력: 1w627r00o00p00\n"
     ]
    }
   ],
   "source": [
    "hyunwoo=input('의도치않게 입력: ')"
   ]
  },
  {
   "cell_type": "code",
   "execution_count": 62,
   "metadata": {},
   "outputs": [],
   "source": [
    "reallist=[]\n",
    "def onlynum(hyunwoo):\n",
    "    for i in range(len(hyunwoo)):\n",
    "        if (hyunwoolist[i]=='0' or hyunwoolist[i]=='1' or hyunwoolist[i]=='2' or hyunwoolist[i]=='3' or hyunwoolist[i]=='4' or hyunwoolist[i]=='5' or hyunwoolist[i]=='6' or hyunwoolist[i]=='7' or hyunwoolist[i]=='8' or hyunwoolist[i]=='9'):\n",
    "            reallist.append(hyunwoolist[i])\n",
    "            print(reallist)\n",
    "        else:\n",
    "            pass\n",
    "    "
   ]
  },
  {
   "cell_type": "code",
   "execution_count": 63,
   "metadata": {
    "scrolled": true
   },
   "outputs": [
    {
     "data": {
      "text/plain": [
       "'1w627r00o00p00'"
      ]
     },
     "execution_count": 63,
     "metadata": {},
     "output_type": "execute_result"
    }
   ],
   "source": [
    "hyunwoolist=''.join(hyunwoo)\n",
    "hyunwoolist"
   ]
  },
  {
   "cell_type": "code",
   "execution_count": 64,
   "metadata": {},
   "outputs": [
    {
     "name": "stdout",
     "output_type": "stream",
     "text": [
      "['1']\n",
      "['1', '6']\n",
      "['1', '6', '2']\n",
      "['1', '6', '2', '7']\n",
      "['1', '6', '2', '7', '0']\n",
      "['1', '6', '2', '7', '0', '0']\n",
      "['1', '6', '2', '7', '0', '0', '0']\n",
      "['1', '6', '2', '7', '0', '0', '0', '0']\n",
      "['1', '6', '2', '7', '0', '0', '0', '0', '0']\n",
      "['1', '6', '2', '7', '0', '0', '0', '0', '0', '0']\n"
     ]
    }
   ],
   "source": [
    "onlynum(hyunwoo)"
   ]
  },
  {
   "cell_type": "code",
   "execution_count": 65,
   "metadata": {},
   "outputs": [
    {
     "data": {
      "text/plain": [
       "['1', '6', '2', '7', '0', '0', '0', '0', '0', '0']"
      ]
     },
     "execution_count": 65,
     "metadata": {},
     "output_type": "execute_result"
    }
   ],
   "source": [
    "reallist"
   ]
  },
  {
   "cell_type": "code",
   "execution_count": 66,
   "metadata": {},
   "outputs": [
    {
     "data": {
      "text/plain": [
       "1627000000"
      ]
     },
     "execution_count": 66,
     "metadata": {},
     "output_type": "execute_result"
    }
   ],
   "source": [
    "int(''.join(reallist))"
   ]
  },
  {
   "cell_type": "code",
   "execution_count": null,
   "metadata": {},
   "outputs": [],
   "source": []
  }
 ],
 "metadata": {
  "kernelspec": {
   "display_name": "Python 3",
   "language": "python",
   "name": "python3"
  },
  "language_info": {
   "codemirror_mode": {
    "name": "ipython",
    "version": 3
   },
   "file_extension": ".py",
   "mimetype": "text/x-python",
   "name": "python",
   "nbconvert_exporter": "python",
   "pygments_lexer": "ipython3",
   "version": "3.7.6"
  },
  "toc": {
   "base_numbering": 1,
   "nav_menu": {},
   "number_sections": true,
   "sideBar": true,
   "skip_h1_title": false,
   "title_cell": "Table of Contents",
   "title_sidebar": "Contents",
   "toc_cell": false,
   "toc_position": {},
   "toc_section_display": true,
   "toc_window_display": false
  },
  "varInspector": {
   "cols": {
    "lenName": 16,
    "lenType": 16,
    "lenVar": 40
   },
   "kernels_config": {
    "python": {
     "delete_cmd_postfix": "",
     "delete_cmd_prefix": "del ",
     "library": "var_list.py",
     "varRefreshCmd": "print(var_dic_list())"
    },
    "r": {
     "delete_cmd_postfix": ") ",
     "delete_cmd_prefix": "rm(",
     "library": "var_list.r",
     "varRefreshCmd": "cat(var_dic_list()) "
    }
   },
   "types_to_exclude": [
    "module",
    "function",
    "builtin_function_or_method",
    "instance",
    "_Feature"
   ],
   "window_display": false
  }
 },
 "nbformat": 4,
 "nbformat_minor": 4
}
