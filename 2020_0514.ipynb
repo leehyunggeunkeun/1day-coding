{
 "cells": [
  {
   "cell_type": "markdown",
   "metadata": {},
   "source": [
    "# 홀수와 짝수의 개수 구하기\n"
   ]
  },
  {
   "cell_type": "code",
   "execution_count": 1,
   "metadata": {},
   "outputs": [],
   "source": [
    "#홀수와 짝수의 개수를 구하는 프로그램을 만들어라.\n",
    "\n",
    "#[3, 4, 5, 6, 7]\n",
    "# 홀수 3개, 짝수 2개\n",
    "#[12, 16, 22, 24, 29]\n",
    "# 홀수 1개, 짝수 4개 \n",
    "#[41, 43, 45, 47, 49]\n",
    "# 홀수 5개, 짝수 0개\n",
    "\n",
    "#홀수 : 2로 나누어 떨어지지 않는 정수\n",
    "#짝수 : 2로 나누어 떨어지는 정수\n"
   ]
  },
  {
   "cell_type": "code",
   "execution_count": 24,
   "metadata": {},
   "outputs": [],
   "source": [
    "mylist=[12,16,22,24,29]\n",
    "mylist_a=[]\n",
    "mylist_b=[]"
   ]
  },
  {
   "cell_type": "code",
   "execution_count": 25,
   "metadata": {},
   "outputs": [],
   "source": [
    "def func1(mylist):\n",
    "    for i in range(len(mylist)):\n",
    "        if mylist[i] %2==0:\n",
    "            mylist_a.append(mylist[i])\n",
    "            \n",
    "        \n",
    "        elif mylist[i] %2==1:\n",
    "            mylist_b.append(mylist[i])\n",
    "            \n",
    "        else:\n",
    "            pass\n",
    "\n",
    "    print('짝수의 개수는 '+str(len(mylist_a))+' 개 입니다.')\n",
    "    print('홀수의 개수는 '+str(len(mylist_b))+' 개 입니다.')"
   ]
  },
  {
   "cell_type": "code",
   "execution_count": 26,
   "metadata": {},
   "outputs": [
    {
     "name": "stdout",
     "output_type": "stream",
     "text": [
      "짝수의 개수는 4 개 입니다.\n",
      "홀수의 개수는 1 개 입니다.\n"
     ]
    }
   ],
   "source": [
    "func1(mylist)"
   ]
  },
  {
   "cell_type": "code",
   "execution_count": null,
   "metadata": {},
   "outputs": [],
   "source": []
  }
 ],
 "metadata": {
  "kernelspec": {
   "display_name": "Python 3",
   "language": "python",
   "name": "python3"
  },
  "language_info": {
   "codemirror_mode": {
    "name": "ipython",
    "version": 3
   },
   "file_extension": ".py",
   "mimetype": "text/x-python",
   "name": "python",
   "nbconvert_exporter": "python",
   "pygments_lexer": "ipython3",
   "version": "3.7.6"
  },
  "toc": {
   "base_numbering": 1,
   "nav_menu": {},
   "number_sections": true,
   "sideBar": true,
   "skip_h1_title": false,
   "title_cell": "Table of Contents",
   "title_sidebar": "Contents",
   "toc_cell": false,
   "toc_position": {},
   "toc_section_display": true,
   "toc_window_display": false
  },
  "varInspector": {
   "cols": {
    "lenName": 16,
    "lenType": 16,
    "lenVar": 40
   },
   "kernels_config": {
    "python": {
     "delete_cmd_postfix": "",
     "delete_cmd_prefix": "del ",
     "library": "var_list.py",
     "varRefreshCmd": "print(var_dic_list())"
    },
    "r": {
     "delete_cmd_postfix": ") ",
     "delete_cmd_prefix": "rm(",
     "library": "var_list.r",
     "varRefreshCmd": "cat(var_dic_list()) "
    }
   },
   "types_to_exclude": [
    "module",
    "function",
    "builtin_function_or_method",
    "instance",
    "_Feature"
   ],
   "window_display": false
  }
 },
 "nbformat": 4,
 "nbformat_minor": 4
}
