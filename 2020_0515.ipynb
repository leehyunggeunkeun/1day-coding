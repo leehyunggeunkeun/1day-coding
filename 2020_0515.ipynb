{
 "cells": [
  {
   "cell_type": "markdown",
   "metadata": {},
   "source": [
    "# 삼각형 구별하기"
   ]
  },
  {
   "cell_type": "code",
   "execution_count": 2,
   "metadata": {},
   "outputs": [],
   "source": [
    "#3개의 각으로 삼각형의 예각, 직각, 둔각을 구별하는 프로그램을 만들어라.\n",
    "#[60, 60, 60] = 예각삼각형\n",
    "#[30, 60, 90] = 직각삼각형\n",
    "#[20, 40, 120] = 둔각삼각형\n",
    "\n",
    "#[0, 90, 90] = 삼각형이 아니다\n",
    "#[60, 70, 80] = 삼각형이 아니다\n",
    "#[40, 40, 50, 50] = 삼각형이 아니다\n",
    "\n",
    "#예각삼각형 : 3개의 각이 모두 예각인 삼각형\n",
    "#직각삼각형 : 1개의 각이 직각인 삼각형\n",
    "#둔각삼각형 : 1개의 각이 둔각인 삼각형\n",
    "#① 각이 3개가 아닐 경우 삼각형이 아니다.\n",
    "#② 3개의 각의 합이 180°가 아닐 경우 삼각형이 아니다.\n"
   ]
  },
  {
   "cell_type": "code",
   "execution_count": 86,
   "metadata": {},
   "outputs": [],
   "source": [
    "# 결과는 맞는데 for문의 영향을 안받고 딱 1개만 나오게 어케할까.. 귀찮네 생각하기가...\n",
    "# 대강생각한거는 리스트에 넣고 있으면 그거만 뽑으면 되는데 그럼 또 길어지니까 의미가 있나 싶네 일단 패스\n",
    "\n",
    "mysamgak=[60,60,60]\n",
    "\n",
    "\n",
    "def gubyul(mysamgak):\n",
    "    for i in range(len(mysamgak)):\n",
    "        if mysamgak[i] == 0 or len(mysamgak)>=4 or sum(mysamgak) !=180:\n",
    "            print('삼각형이 아니다')\n",
    "            \n",
    "        else:\n",
    "            if mysamgak[i]>90:\n",
    "                print('둔각삼각형')\n",
    "                \n",
    "            if mysamgak[i]==90:\n",
    "                print('직각삼각형')\n",
    "                \n",
    "            else:\n",
    "                print('예각삼각형')"
   ]
  },
  {
   "cell_type": "code",
   "execution_count": 87,
   "metadata": {},
   "outputs": [
    {
     "name": "stdout",
     "output_type": "stream",
     "text": [
      "예각삼각형\n",
      "예각삼각형\n",
      "예각삼각형\n"
     ]
    }
   ],
   "source": [
    "gubyul(mysamgak)"
   ]
  },
  {
   "cell_type": "code",
   "execution_count": null,
   "metadata": {},
   "outputs": [],
   "source": []
  }
 ],
 "metadata": {
  "kernelspec": {
   "display_name": "Python 3",
   "language": "python",
   "name": "python3"
  },
  "language_info": {
   "codemirror_mode": {
    "name": "ipython",
    "version": 3
   },
   "file_extension": ".py",
   "mimetype": "text/x-python",
   "name": "python",
   "nbconvert_exporter": "python",
   "pygments_lexer": "ipython3",
   "version": "3.7.6"
  },
  "toc": {
   "base_numbering": 1,
   "nav_menu": {},
   "number_sections": true,
   "sideBar": true,
   "skip_h1_title": false,
   "title_cell": "Table of Contents",
   "title_sidebar": "Contents",
   "toc_cell": false,
   "toc_position": {},
   "toc_section_display": true,
   "toc_window_display": false
  },
  "varInspector": {
   "cols": {
    "lenName": 16,
    "lenType": 16,
    "lenVar": 40
   },
   "kernels_config": {
    "python": {
     "delete_cmd_postfix": "",
     "delete_cmd_prefix": "del ",
     "library": "var_list.py",
     "varRefreshCmd": "print(var_dic_list())"
    },
    "r": {
     "delete_cmd_postfix": ") ",
     "delete_cmd_prefix": "rm(",
     "library": "var_list.r",
     "varRefreshCmd": "cat(var_dic_list()) "
    }
   },
   "types_to_exclude": [
    "module",
    "function",
    "builtin_function_or_method",
    "instance",
    "_Feature"
   ],
   "window_display": false
  }
 },
 "nbformat": 4,
 "nbformat_minor": 4
}
