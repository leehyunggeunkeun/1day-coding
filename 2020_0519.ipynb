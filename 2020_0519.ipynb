{
 "cells": [
  {
   "cell_type": "markdown",
   "metadata": {},
   "source": [
    "# MVP를 찾아라"
   ]
  },
  {
   "cell_type": "markdown",
   "metadata": {},
   "source": [
    "조건\n",
    "\n",
    "한 게임의 유저는 총 열명으로 두팀으로 나뉜다. (A1,A2...A5 와 B1,B2...B5로 구성된다.)\n",
    "\n",
    "총 10줄에 걸쳐 각 유저들의 K/D/A를 입력받고 그에 따른 점수가 가장 높은 유저를 출력한다.\n",
    "\n",
    "점수는 (K * 2 + A )/ (D+1) 을 기준으로 한다.\n",
    "\n",
    "만약 같은 팀인데 점수가 똑같다면 점수가 똑같은 사람중에 어느 누구를 출력해도 상관이 없다."
   ]
  },
  {
   "cell_type": "markdown",
   "metadata": {},
   "source": [
    "업데이트 항목 : 연속으로 상대를 처치함에 따라 점수를 더하고 승리한 팀에게 모두 1점을 더하시오.\n",
    "\n",
    "펜타킬 : P : 4\n",
    "\n",
    "쿼드라킬 : Q : 3\n",
    "\n",
    "트리플킬 : T : 2\n",
    "\n",
    "더블킬 : D : 1\n",
    "\n",
    "없음 : N : 0"
   ]
  },
  {
   "cell_type": "code",
   "execution_count": 69,
   "metadata": {},
   "outputs": [
    {
     "name": "stdout",
     "output_type": "stream",
     "text": [
      "[11, 1, 9, 3, 4, 4, 0, 0, 1, 6]\n"
     ]
    },
    {
     "data": {
      "text/plain": [
       "([11, 1, 9, 3, 4], [4, 0, 0, 1, 6])"
      ]
     },
     "execution_count": 69,
     "metadata": {},
     "output_type": "execute_result"
    }
   ],
   "source": [
    "k=[3,2,12,1,2,5,1,1,2,4]\n",
    "d=[0,5,4,2,2,5,5,3,4,3]\n",
    "a=[4,6,2,8,8,2,2,1,5,5]\n",
    "bonus=[1,0,4,0,0,2,0,0,0,3]\n",
    "\n",
    "score=[]\n",
    "for i in range(0,10):\n",
    "    score.append(int((k[i]*2+a[i])/(d[i]+1))+bonus[i])\n",
    "print(score)\n",
    "\n",
    "a_score=score[:5]\n",
    "b_score=score[5:]\n",
    "\n",
    "\n",
    "a_score,b_score"
   ]
  },
  {
   "cell_type": "code",
   "execution_count": 70,
   "metadata": {},
   "outputs": [
    {
     "data": {
      "text/plain": [
       "(28, 11)"
      ]
     },
     "execution_count": 70,
     "metadata": {},
     "output_type": "execute_result"
    }
   ],
   "source": [
    "a_score_sum=sum(a_score)\n",
    "b_score_sum=sum(b_score)\n",
    "\n",
    "a_score_sum, b_score_sum"
   ]
  },
  {
   "cell_type": "code",
   "execution_count": 71,
   "metadata": {},
   "outputs": [],
   "source": [
    "if a_score_sum > b_score_sum:\n",
    "    for i in range(0,5):\n",
    "        a_score[i]+=1\n",
    "\n",
    "          \n",
    "else:\n",
    "    for i in range(0,5):\n",
    "        b_score[i]+=1"
   ]
  },
  {
   "cell_type": "code",
   "execution_count": 72,
   "metadata": {},
   "outputs": [
    {
     "data": {
      "text/plain": [
       "([12, 2, 10, 4, 5], [4, 0, 0, 1, 6])"
      ]
     },
     "execution_count": 72,
     "metadata": {},
     "output_type": "execute_result"
    }
   ],
   "source": [
    "a_score  ,b_score"
   ]
  },
  {
   "cell_type": "code",
   "execution_count": 73,
   "metadata": {},
   "outputs": [
    {
     "data": {
      "text/plain": [
       "'12점인 너가 mvp'"
      ]
     },
     "execution_count": 73,
     "metadata": {},
     "output_type": "execute_result"
    }
   ],
   "source": [
    "str(max(max(a_score), max(b_score)))+'점인 너가 mvp'"
   ]
  },
  {
   "cell_type": "code",
   "execution_count": null,
   "metadata": {},
   "outputs": [],
   "source": [
    "# 아주 쓰잘데기없는 코드인듯.... 보너스점수도 구현하고 이길시 1점도 구현은 했지만 가장큰 점수를 획득한게 어떤 팀의 \n",
    "# 누구라는것만 알지 몇번사람인지는 모른다.. 더 노력해야할듯"
   ]
  }
 ],
 "metadata": {
  "kernelspec": {
   "display_name": "Python 3",
   "language": "python",
   "name": "python3"
  },
  "language_info": {
   "codemirror_mode": {
    "name": "ipython",
    "version": 3
   },
   "file_extension": ".py",
   "mimetype": "text/x-python",
   "name": "python",
   "nbconvert_exporter": "python",
   "pygments_lexer": "ipython3",
   "version": "3.7.6"
  },
  "toc": {
   "base_numbering": 1,
   "nav_menu": {},
   "number_sections": true,
   "sideBar": true,
   "skip_h1_title": false,
   "title_cell": "Table of Contents",
   "title_sidebar": "Contents",
   "toc_cell": false,
   "toc_position": {},
   "toc_section_display": true,
   "toc_window_display": false
  },
  "varInspector": {
   "cols": {
    "lenName": 16,
    "lenType": 16,
    "lenVar": 40
   },
   "kernels_config": {
    "python": {
     "delete_cmd_postfix": "",
     "delete_cmd_prefix": "del ",
     "library": "var_list.py",
     "varRefreshCmd": "print(var_dic_list())"
    },
    "r": {
     "delete_cmd_postfix": ") ",
     "delete_cmd_prefix": "rm(",
     "library": "var_list.r",
     "varRefreshCmd": "cat(var_dic_list()) "
    }
   },
   "types_to_exclude": [
    "module",
    "function",
    "builtin_function_or_method",
    "instance",
    "_Feature"
   ],
   "window_display": false
  }
 },
 "nbformat": 4,
 "nbformat_minor": 4
}
