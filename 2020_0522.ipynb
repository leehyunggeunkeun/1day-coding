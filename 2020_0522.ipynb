{
 "cells": [
  {
   "cell_type": "markdown",
   "metadata": {},
   "source": [
    "# n의 배수 판정법"
   ]
  },
  {
   "cell_type": "markdown",
   "metadata": {},
   "source": [
    "어떤 수 x와 n이 주어졌을때 조건에 따라 x가 n의 배수인지 판별하는 코드를 작성하라.\n",
    "\n",
    "x는 0 이상의 정수이며 조건에 맞지 않는 입력은 주어지지 않는다.\n",
    "\n",
    "여기서 하나의 함수인지 여러 함수인지는 본인이 선택하면 된다.\n",
    "\n",
    "단 절대 산술연산자 중 %와 /는 코드에 없도록 한다.\n",
    "\n",
    "그리고 divmod() 함수를 쓰는것도 금지한다\n",
    "\n",
    "코드는 창의적으로 하는 것을 목적으로 한다. 속도는 크게 중점을 두지 않는다.\n",
    "\n",
    "n의 종류는 2,3,5,7,11,13이다.\n",
    "\n",
    "원하는 n만 선택해서 풀 수도 있다."
   ]
  },
  {
   "cell_type": "code",
   "execution_count": 1,
   "metadata": {},
   "outputs": [],
   "source": [
    "#입력\n",
    "# 432    2\n",
    "# 4      3\n",
    "# 635    5\n",
    "# 421    7\n",
    "# 122   11\n",
    "# 143   13"
   ]
  },
  {
   "cell_type": "code",
   "execution_count": 2,
   "metadata": {},
   "outputs": [],
   "source": [
    "#출력 배수면 1 아니면 0\n",
    "#1\n",
    "#0\n",
    "#1\n",
    "#0\n",
    "#0\n",
    "#1"
   ]
  },
  {
   "cell_type": "code",
   "execution_count": 3,
   "metadata": {},
   "outputs": [
    {
     "name": "stdout",
     "output_type": "stream",
     "text": [
      "원하는 숫자를 입력하세요: 432\n"
     ]
    }
   ],
   "source": [
    "x=int(input('원하는 숫자를 입력하세요: '))"
   ]
  },
  {
   "cell_type": "code",
   "execution_count": 4,
   "metadata": {},
   "outputs": [],
   "source": [
    "#messi님의 코드 나도그냥 계속해서 뺴는거 생각했는데 어케할지 막연했음\n",
    "def multiple(x,n):\n",
    "    \n",
    "    while x>=n: \n",
    "        x-=n\n",
    "    return x==0"
   ]
  },
  {
   "cell_type": "code",
   "execution_count": 5,
   "metadata": {},
   "outputs": [
    {
     "data": {
      "text/plain": [
       "False"
      ]
     },
     "execution_count": 5,
     "metadata": {},
     "output_type": "execute_result"
    }
   ],
   "source": [
    "multiple(432,5)"
   ]
  },
  {
   "cell_type": "code",
   "execution_count": 6,
   "metadata": {},
   "outputs": [],
   "source": [
    "#역시 while문도 공부를 계속해나가야하고 return의 역할에 대해서도 계속공부하자"
   ]
  },
  {
   "cell_type": "code",
   "execution_count": null,
   "metadata": {},
   "outputs": [],
   "source": []
  }
 ],
 "metadata": {
  "kernelspec": {
   "display_name": "Python 3",
   "language": "python",
   "name": "python3"
  },
  "language_info": {
   "codemirror_mode": {
    "name": "ipython",
    "version": 3
   },
   "file_extension": ".py",
   "mimetype": "text/x-python",
   "name": "python",
   "nbconvert_exporter": "python",
   "pygments_lexer": "ipython3",
   "version": "3.7.6"
  },
  "toc": {
   "base_numbering": 1,
   "nav_menu": {},
   "number_sections": true,
   "sideBar": true,
   "skip_h1_title": false,
   "title_cell": "Table of Contents",
   "title_sidebar": "Contents",
   "toc_cell": false,
   "toc_position": {},
   "toc_section_display": true,
   "toc_window_display": false
  },
  "varInspector": {
   "cols": {
    "lenName": 16,
    "lenType": 16,
    "lenVar": 40
   },
   "kernels_config": {
    "python": {
     "delete_cmd_postfix": "",
     "delete_cmd_prefix": "del ",
     "library": "var_list.py",
     "varRefreshCmd": "print(var_dic_list())"
    },
    "r": {
     "delete_cmd_postfix": ") ",
     "delete_cmd_prefix": "rm(",
     "library": "var_list.r",
     "varRefreshCmd": "cat(var_dic_list()) "
    }
   },
   "types_to_exclude": [
    "module",
    "function",
    "builtin_function_or_method",
    "instance",
    "_Feature"
   ],
   "window_display": false
  }
 },
 "nbformat": 4,
 "nbformat_minor": 4
}
