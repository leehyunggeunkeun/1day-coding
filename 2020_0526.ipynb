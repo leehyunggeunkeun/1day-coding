{
 "cells": [
  {
   "cell_type": "markdown",
   "metadata": {},
   "source": [
    "# 정수와 소수 구별하기\n"
   ]
  },
  {
   "cell_type": "markdown",
   "metadata": {},
   "source": [
    "프로그래머 X는 코딩을 하다가 문득, 수학 시간에 배운 정수와 소수를 구별하는 방법을 떠올렸다. 정수와 소수의 차이는 분수로 표현이 되느냐, 되지 않느냐에 따라 차이가 나기도 하며, 또한 파이 등 특정한 값을 나타내는 것에 의하여 소수인지 정수인지 판별이 나게 된다.\n",
    "\n",
    "프로그래머 X는 입력값을 숫자를 입력하거나 문자를 입력하려고 하는데,\n",
    "\n",
    "만약 숫자를 입력하였으면 그것이 정수인지, 소수인지 구별하는 프로그램을 짜보도록 하고,\n",
    "만약 문자를 입력하였으면 숫자가 아니므로 math error를 표시하게 하라."
   ]
  },
  {
   "cell_type": "code",
   "execution_count": 3,
   "metadata": {},
   "outputs": [
    {
     "name": "stdout",
     "output_type": "stream",
     "text": [
      "숫자, 문자를 입력하세요: 5/2\n",
      "숫자+소수\n"
     ]
    }
   ],
   "source": [
    "a=input('숫자, 문자를 입력하세요: ')\n",
    "\n",
    "\n",
    "if a.find('.')==1 or a.find('/')==1 :\n",
    "    print('숫자+소수')\n",
    "\n",
    "elif a.find('.')==-1 or a.find('/')==-1 :\n",
    "    print('숫자+정수')\n",
    "    \n",
    "    \n",
    "# 문자는 어케하지 개짜증나네... 알파벳 다쓰고 소문자쓰고 upper해서 하고 한글도 다해야하나?? 너무 비효율적인데 \n",
    "# 남코드 이해가 가긴하지만 내가 딱 생각이 나진않네.."
   ]
  },
  {
   "cell_type": "code",
   "execution_count": null,
   "metadata": {},
   "outputs": [],
   "source": []
  }
 ],
 "metadata": {
  "kernelspec": {
   "display_name": "Python 3",
   "language": "python",
   "name": "python3"
  },
  "toc": {
   "base_numbering": 1,
   "nav_menu": {},
   "number_sections": true,
   "sideBar": true,
   "skip_h1_title": false,
   "title_cell": "Table of Contents",
   "title_sidebar": "Contents",
   "toc_cell": false,
   "toc_position": {},
   "toc_section_display": true,
   "toc_window_display": false
  },
  "varInspector": {
   "cols": {
    "lenName": 16,
    "lenType": 16,
    "lenVar": 40
   },
   "kernels_config": {
    "python": {
     "delete_cmd_postfix": "",
     "delete_cmd_prefix": "del ",
     "library": "var_list.py",
     "varRefreshCmd": "print(var_dic_list())"
    },
    "r": {
     "delete_cmd_postfix": ") ",
     "delete_cmd_prefix": "rm(",
     "library": "var_list.r",
     "varRefreshCmd": "cat(var_dic_list()) "
    }
   },
   "types_to_exclude": [
    "module",
    "function",
    "builtin_function_or_method",
    "instance",
    "_Feature"
   ],
   "window_display": false
  }
 },
 "nbformat": 4,
 "nbformat_minor": 4
}
