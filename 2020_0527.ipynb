{
 "cells": [
  {
   "cell_type": "markdown",
   "metadata": {},
   "source": [
    "# Cardinal to Ordinal 기수를 서수로 바꾸기\n"
   ]
  },
  {
   "cell_type": "markdown",
   "metadata": {},
   "source": [
    "기수(Cardinal)를 입력하면 영어 서수(Ordinal)로 출력하는 함수를 작성합니다.\n",
    "\n",
    "1, 21, 31, 41, ... → 1st, 21st, 31st, 41st, ...\n",
    "2, 22, 32, 42, ... → 2nd, 22nd, 32nd, 42nd, ...\n",
    "3, 23, 33, 43, ... → 3rd, 23rd, 33rd, 43rd, ...\n",
    "11, 12, 13, 111, 112, 113, 211, 212, 213, ...  → 11th, 12th, 13th, 111th, 112th, 113th, 211th, 212th, 213th, ...\n",
    "4, 5, 6, 11, 12, 13, 101, 111, 112, ... → 4th, 5th, 6th, 11th, 12th, 13th, 101th, 111th, 112th, ..."
   ]
  },
  {
   "cell_type": "code",
   "execution_count": 1,
   "metadata": {},
   "outputs": [],
   "source": [
    "#기본적으로 th\n",
    "\n",
    "# 1,21,31,41,51,61,71,81,91,101 st 예외는 11뿐\n",
    "# 2,22,32,42,52,62,72,82,92,102 nd 예외는 12뿐\n",
    "# 3,23,33,43,53,63,    rd 예외는 13뿐\n",
    "\n",
    "# 흠 근데 개쓰레기 코드같은데......"
   ]
  },
  {
   "cell_type": "code",
   "execution_count": 2,
   "metadata": {},
   "outputs": [],
   "source": [
    "def ordinal(number):\n",
    "    if number==1 or number==21 or number==31 or number==41 or number==51 or number==61 or number==71 or number==81 or number==91 or number==101:\n",
    "        print(str(number)+'st')\n",
    "    \n",
    "    elif number==2 or number==22 or number==32 or number==42 or number==52 or number==62 or number==72 or number==82 or number==92 or number==102:\n",
    "        print(str(number)+'nd')\n",
    "        \n",
    "    elif number==3 or number==23 or number==33 or number==43 or number==53 or number==63 or number==73 or number==83 or number==93 or number==103:\n",
    "        print(str(number)+'rd')\n",
    "        \n",
    "    else:\n",
    "        print(str(number)+'th')"
   ]
  },
  {
   "cell_type": "code",
   "execution_count": 3,
   "metadata": {},
   "outputs": [
    {
     "name": "stdout",
     "output_type": "stream",
     "text": [
      "36th\n"
     ]
    }
   ],
   "source": [
    "ordinal(36)"
   ]
  },
  {
   "cell_type": "code",
   "execution_count": null,
   "metadata": {},
   "outputs": [],
   "source": []
  },
  {
   "cell_type": "code",
   "execution_count": null,
   "metadata": {},
   "outputs": [],
   "source": []
  }
 ],
 "metadata": {
  "kernelspec": {
   "display_name": "Python 3",
   "language": "python",
   "name": "python3"
  },
  "language_info": {
   "codemirror_mode": {
    "name": "ipython",
    "version": 3
   },
   "file_extension": ".py",
   "mimetype": "text/x-python",
   "name": "python",
   "nbconvert_exporter": "python",
   "pygments_lexer": "ipython3",
   "version": "3.7.6"
  },
  "toc": {
   "base_numbering": 1,
   "nav_menu": {},
   "number_sections": true,
   "sideBar": true,
   "skip_h1_title": false,
   "title_cell": "Table of Contents",
   "title_sidebar": "Contents",
   "toc_cell": false,
   "toc_position": {},
   "toc_section_display": true,
   "toc_window_display": false
  },
  "varInspector": {
   "cols": {
    "lenName": 16,
    "lenType": 16,
    "lenVar": 40
   },
   "kernels_config": {
    "python": {
     "delete_cmd_postfix": "",
     "delete_cmd_prefix": "del ",
     "library": "var_list.py",
     "varRefreshCmd": "print(var_dic_list())"
    },
    "r": {
     "delete_cmd_postfix": ") ",
     "delete_cmd_prefix": "rm(",
     "library": "var_list.r",
     "varRefreshCmd": "cat(var_dic_list()) "
    }
   },
   "types_to_exclude": [
    "module",
    "function",
    "builtin_function_or_method",
    "instance",
    "_Feature"
   ],
   "window_display": false
  }
 },
 "nbformat": 4,
 "nbformat_minor": 4
}
