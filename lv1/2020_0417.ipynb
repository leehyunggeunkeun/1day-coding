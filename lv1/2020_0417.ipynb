{
 "cells": [
  {
   "cell_type": "markdown",
   "metadata": {},
   "source": [
    "# Even Fibonacci numbers"
   ]
  },
  {
   "cell_type": "code",
   "execution_count": 1,
   "metadata": {},
   "outputs": [],
   "source": [
    "#피보나치 수열의 각 항은 바로 앞의 항 두 개를 더한 것이 됩니다. \n",
    "#1과 2로 시작하는 경우 이 수열은 아래와 같습니다.\n",
    "#1, 2, 3, 5, 8, 13, 21, 34, 55, 89, ...\n",
    "#짝수이면서 4백만 이하인 모든 항을 더하면 얼마가 됩니까?"
   ]
  },
  {
   "cell_type": "code",
   "execution_count": 3,
   "metadata": {},
   "outputs": [
    {
     "name": "stdout",
     "output_type": "stream",
     "text": [
      "4613732\n"
     ]
    }
   ],
   "source": [
    "#지금 연속으로 계속 못풀고 있는데 현타오네\n",
    "#풀때까지 생각을 계속해볼까 안된다고 그만하게되니까 안풀리나...\n",
    "#항상 느끼지만 while반복문이 익숙치가않고, 수학적 개념이 후달리네\n",
    "\n",
    "a, b = [0,1]\n",
    "sum = 0\n",
    "while b <= 4000000:\n",
    "    a = a + b\n",
    "    b, a = a, b\n",
    "    if b % 2 == 0: sum += b\n",
    "print(sum)\n",
    "\n",
    "#작성자 :겨털에 뽀뽀\n"
   ]
  },
  {
   "cell_type": "code",
   "execution_count": 2,
   "metadata": {},
   "outputs": [
    {
     "name": "stdout",
     "output_type": "stream",
     "text": [
      "10\n",
      "[1, 2, 3, 5, 8, 13, 21, 34, 55, 89]\n"
     ]
    }
   ],
   "source": []
  },
  {
   "cell_type": "code",
   "execution_count": null,
   "metadata": {},
   "outputs": [],
   "source": []
  }
 ],
 "metadata": {
  "kernelspec": {
   "display_name": "Python 3",
   "language": "python",
   "name": "python3"
  },
  "language_info": {
   "codemirror_mode": {
    "name": "ipython",
    "version": 3
   },
   "file_extension": ".py",
   "mimetype": "text/x-python",
   "name": "python",
   "nbconvert_exporter": "python",
   "pygments_lexer": "ipython3",
   "version": "3.7.4"
  }
 },
 "nbformat": 4,
 "nbformat_minor": 2
}
