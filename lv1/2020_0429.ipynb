{
 "cells": [
  {
   "cell_type": "markdown",
   "metadata": {},
   "source": [
    "# 자릿수를 출력하는 프로그램"
   ]
  },
  {
   "cell_type": "code",
   "execution_count": 2,
   "metadata": {},
   "outputs": [],
   "source": [
    "#양의 정수만 입력으로 받고 그 수의 자릿수를 출력해보자. \n",
    "#ex1) 3 > 1자리수, ex2) 649 > 3자리수 ...."
   ]
  },
  {
   "cell_type": "code",
   "execution_count": 28,
   "metadata": {},
   "outputs": [
    {
     "name": "stdout",
     "output_type": "stream",
     "text": [
      "숫자(자연수)를 입력하세요: 50000\n",
      "5\n"
     ]
    }
   ],
   "source": [
    "a=int(input('숫자(자연수)를 입력하세요: '))\n",
    "if a >0:\n",
    "    print(len(str(a)))\n",
    "    \n",
    "    \n",
    "else :\n",
    "    print('양의정수(자연수)를 입력하세요')"
   ]
  },
  {
   "cell_type": "code",
   "execution_count": null,
   "metadata": {},
   "outputs": [],
   "source": []
  }
 ],
 "metadata": {
  "kernelspec": {
   "display_name": "Python 3",
   "language": "python",
   "name": "python3"
  },
  "language_info": {
   "codemirror_mode": {
    "name": "ipython",
    "version": 3
   },
   "file_extension": ".py",
   "mimetype": "text/x-python",
   "name": "python",
   "nbconvert_exporter": "python",
   "pygments_lexer": "ipython3",
   "version": "3.7.4"
  }
 },
 "nbformat": 4,
 "nbformat_minor": 2
}
