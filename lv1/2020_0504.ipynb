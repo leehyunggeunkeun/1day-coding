{
 "cells": [
  {
   "cell_type": "markdown",
   "metadata": {},
   "source": [
    "# 자신을 제외한 곱셈"
   ]
  },
  {
   "cell_type": "code",
   "execution_count": null,
   "metadata": {},
   "outputs": [],
   "source": [
    "# 배열 [a, b, c, d]를 입력하면 배열[bcd, acd, abd, abc]를 \n",
    "# 출력하는 코드를 작성하시오.\n",
    "\n",
    "# (단, 나눗셈 사용 금지)\n",
    "# 입출력되는 배열은 어떤 형식이든 상관없습니다."
   ]
  },
  {
   "cell_type": "code",
   "execution_count": 4,
   "metadata": {},
   "outputs": [],
   "source": [
    "def gobs(a,b,c,d):\n",
    "    gob=[]\n",
    "    gob1=b*c*d\n",
    "    gob2=a*c*d\n",
    "    gob3=a*b*d\n",
    "    gob4=a*b*c\n",
    "\n",
    "    gob.append(gob1)\n",
    "    gob.append(gob2)\n",
    "    gob.append(gob3)\n",
    "    gob.append(gob4)\n",
    "\n",
    "    return gob"
   ]
  },
  {
   "cell_type": "code",
   "execution_count": 5,
   "metadata": {},
   "outputs": [
    {
     "data": {
      "text/plain": [
       "[168, 56, 84, 48]"
      ]
     },
     "execution_count": 5,
     "metadata": {},
     "output_type": "execute_result"
    }
   ],
   "source": [
    "gobs(2,6,4,7)"
   ]
  }
 ],
 "metadata": {
  "kernelspec": {
   "display_name": "Python 3",
   "language": "python",
   "name": "python3"
  },
  "language_info": {
   "codemirror_mode": {
    "name": "ipython",
    "version": 3
   },
   "file_extension": ".py",
   "mimetype": "text/x-python",
   "name": "python",
   "nbconvert_exporter": "python",
   "pygments_lexer": "ipython3",
   "version": "3.7.4"
  }
 },
 "nbformat": 4,
 "nbformat_minor": 2
}
