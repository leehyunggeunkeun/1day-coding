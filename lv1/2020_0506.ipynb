{
 "cells": [
  {
   "cell_type": "markdown",
   "metadata": {},
   "source": [
    "# 농장 분할\n"
   ]
  },
  {
   "cell_type": "code",
   "execution_count": 11,
   "metadata": {},
   "outputs": [],
   "source": [
    "# 밥 아저씨는 돈을 힘들게 모은 끝에 한 토지를 구입했다.\n",
    "# 밥 아저씨는 그 토지에 유명한 식물을 심을려고 하는데,\n",
    "# 그 식물은 주변 √n 미터 안에 다른 식물이 있으면 자라지 못한 다고 한다.\n",
    "# 그러므로 토지의 넓이를 n으로 나누어야 한다.\n",
    "# 토지의 가로와 세로의 길이를 입력받을때, 최대 심을 수 있는 식물의 개수는?\n",
    "# (단, n의 값은 식이 성립하는 n의 범위 중에서 최대여야 한다.)"
   ]
  },
  {
   "cell_type": "code",
   "execution_count": 12,
   "metadata": {},
   "outputs": [],
   "source": [
    "def myunjeok(a,b):\n",
    "    toji=a*b\n",
    "    return toji"
   ]
  },
  {
   "cell_type": "code",
   "execution_count": 37,
   "metadata": {},
   "outputs": [
    {
     "name": "stdout",
     "output_type": "stream",
     "text": [
      "307200.0\n",
      "153600.0\n",
      "102400.0\n",
      "76800.0\n",
      "61440.0\n",
      "51200.0\n",
      "38400.0\n",
      "30720.0\n",
      "25600.0\n",
      "20480.0\n",
      "19200.0\n",
      "15360.0\n",
      "12800.0\n",
      "12288.0\n",
      "10240.0\n",
      "9600.0\n",
      "7680.0\n",
      "6400.0\n",
      "6144.0\n",
      "5120.0\n",
      "4800.0\n",
      "4096.0\n",
      "3840.0\n",
      "3200.0\n",
      "3072.0\n"
     ]
    }
   ],
   "source": [
    "for i in range(1,101):\n",
    "    if 307200 % i == 0:\n",
    "        print(307200/i)\n",
    "        \n",
    "# 남이한 코드보면 코드자체가 어려운게아니라 그냥 이 문제 푸는 수학적(수학적이라하기도 모한;;)인 그게 이해가안가네;;\n",
    "# 어케 이해해야 하는거지..."
   ]
  },
  {
   "cell_type": "code",
   "execution_count": null,
   "metadata": {},
   "outputs": [],
   "source": []
  }
 ],
 "metadata": {
  "kernelspec": {
   "display_name": "Python 3",
   "language": "python",
   "name": "python3"
  },
  "language_info": {
   "codemirror_mode": {
    "name": "ipython",
    "version": 3
   },
   "file_extension": ".py",
   "mimetype": "text/x-python",
   "name": "python",
   "nbconvert_exporter": "python",
   "pygments_lexer": "ipython3",
   "version": "3.7.4"
  }
 },
 "nbformat": 4,
 "nbformat_minor": 2
}
